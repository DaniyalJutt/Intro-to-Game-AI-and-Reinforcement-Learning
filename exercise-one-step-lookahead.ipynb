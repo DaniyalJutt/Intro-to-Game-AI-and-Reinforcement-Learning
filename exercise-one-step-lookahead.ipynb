{
 "cells": [
  {
   "cell_type": "markdown",
   "id": "7f4b6faf",
   "metadata": {
    "papermill": {
     "duration": 0.003924,
     "end_time": "2025-08-31T11:11:34.193382",
     "exception": false,
     "start_time": "2025-08-31T11:11:34.189458",
     "status": "completed"
    },
    "tags": []
   },
   "source": [
    "**This notebook is an exercise in the [Intro to Game AI and Reinforcement Learning](https://www.kaggle.com/learn/intro-to-game-ai-and-reinforcement-learning) course.  You can reference the tutorial at [this link](https://www.kaggle.com/alexisbcook/one-step-lookahead).**\n",
    "\n",
    "---\n"
   ]
  },
  {
   "cell_type": "markdown",
   "id": "2b420010",
   "metadata": {
    "papermill": {
     "duration": 0.002793,
     "end_time": "2025-08-31T11:11:34.199555",
     "exception": false,
     "start_time": "2025-08-31T11:11:34.196762",
     "status": "completed"
    },
    "tags": []
   },
   "source": [
    "# Introduction\n",
    "\n",
    "In the tutorial, you learned how to define a simple heuristic that the agent used to select moves.  In this exercise, you'll check your understanding and make the heuristic more complex.\n",
    "\n",
    "To get started, run the code cell below to set up our feedback system."
   ]
  },
  {
   "cell_type": "code",
   "execution_count": 1,
   "id": "02fefdec",
   "metadata": {
    "execution": {
     "iopub.execute_input": "2025-08-31T11:11:34.207711Z",
     "iopub.status.busy": "2025-08-31T11:11:34.206692Z",
     "iopub.status.idle": "2025-08-31T11:12:16.604517Z",
     "shell.execute_reply": "2025-08-31T11:12:16.602633Z"
    },
    "papermill": {
     "duration": 42.404384,
     "end_time": "2025-08-31T11:12:16.606986",
     "exception": false,
     "start_time": "2025-08-31T11:11:34.202602",
     "status": "completed"
    },
    "tags": []
   },
   "outputs": [
    {
     "name": "stderr",
     "output_type": "stream",
     "text": [
      "2025-08-31 11:12:00.920286: E external/local_xla/xla/stream_executor/cuda/cuda_fft.cc:477] Unable to register cuFFT factory: Attempting to register factory for plugin cuFFT when one has already been registered\n",
      "WARNING: All log messages before absl::InitializeLog() is called are written to STDERR\n",
      "E0000 00:00:1756638721.166634      13 cuda_dnn.cc:8310] Unable to register cuDNN factory: Attempting to register factory for plugin cuDNN when one has already been registered\n",
      "E0000 00:00:1756638721.230105      13 cuda_blas.cc:1418] Unable to register cuBLAS factory: Attempting to register factory for plugin cuBLAS when one has already been registered\n"
     ]
    },
    {
     "name": "stdout",
     "output_type": "stream",
     "text": [
      "[kaggle_environments.envs.open_spiel.open_spiel] INFO: Successfully loaded OpenSpiel environments: 6.\n",
      "[kaggle_environments.envs.open_spiel.open_spiel] INFO:    open_spiel_chess\n",
      "[kaggle_environments.envs.open_spiel.open_spiel] INFO:    open_spiel_connect_four\n",
      "[kaggle_environments.envs.open_spiel.open_spiel] INFO:    open_spiel_gin_rummy\n",
      "[kaggle_environments.envs.open_spiel.open_spiel] INFO:    open_spiel_go\n",
      "[kaggle_environments.envs.open_spiel.open_spiel] INFO:    open_spiel_tic_tac_toe\n",
      "[kaggle_environments.envs.open_spiel.open_spiel] INFO:    open_spiel_universal_poker\n",
      "[kaggle_environments.envs.open_spiel.open_spiel] INFO: OpenSpiel games skipped: 0.\n"
     ]
    }
   ],
   "source": [
    "from learntools.core import binder\n",
    "binder.bind(globals())\n",
    "from learntools.game_ai.ex2 import *"
   ]
  },
  {
   "cell_type": "markdown",
   "id": "49e584ce",
   "metadata": {
    "papermill": {
     "duration": 0.003526,
     "end_time": "2025-08-31T11:12:16.614602",
     "exception": false,
     "start_time": "2025-08-31T11:12:16.611076",
     "status": "completed"
    },
    "tags": []
   },
   "source": [
    "### 1) A more complex heuristic\n",
    "\n",
    "The heuristic from the tutorial looks at all groups of four adjacent grid locations on the same row, column, or diagonal and assigns points for each occurrence of the following patterns:\n",
    "\n",
    "<center>\n",
    "<img src=\"https://storage.googleapis.com/kaggle-media/learn/images/vzQa4ML.png\" width=60%><br/>\n",
    "</center>\n",
    "\n",
    "In the image above, we assume that the agent is the red player, and the opponent plays yellow discs.\n",
    "\n",
    "For reference, here is the `get_heuristic()` function from the tutorial:\n",
    "```python\n",
    "def get_heuristic(grid, mark, config):\n",
    "    num_threes = count_windows(grid, 3, mark, config)\n",
    "    num_fours = count_windows(grid, 4, mark, config)\n",
    "    num_threes_opp = count_windows(grid, 3, mark%2+1, config)\n",
    "    score = num_threes - 1e2*num_threes_opp + 1e6*num_fours\n",
    "    return score\n",
    "```\n",
    "\n",
    "In the `get_heuristic()` function, `num_fours`, `num_threes`, and `num_threes_opp` are the number of windows in the game grid that are assigned 1000000, 1, and -100 point(s), respectively. \n",
    "    \n",
    "In this tutorial, you'll change the heuristic to the following (where you decide the number of points to apply in each of `A`, `B`, `C`, `D`, and `E`).  You will define these values in the code cell below.\n",
    "\n",
    "<center>\n",
    "<img src=\"https://storage.googleapis.com/kaggle-media/learn/images/FBoWr2f.png\" width=80%><br/>\n",
    "</center>\n",
    "    \n",
    "\n",
    "To check your answer, we use your values to create a heuristic function as follows:\n",
    "\n",
    "```python\n",
    "def get_heuristic_q1(grid, col, mark, config):\n",
    "    num_twos = count_windows(grid, 2, mark, config)\n",
    "    num_threes = count_windows(grid, 3, mark, config)\n",
    "    num_fours = count_windows(grid, 4, mark, config)\n",
    "    num_twos_opp = count_windows(grid, 2, mark%2+1, config)\n",
    "    num_threes_opp = count_windows(grid, 3, mark%2+1, config)\n",
    "    score = A*num_fours + B*num_threes + C*num_twos + D*num_twos_opp + E*num_threes_opp\n",
    "    return score\n",
    "```\n",
    "\n",
    "This heuristic is then used to create an agent, that competes against the agent from the tutorial in 50 different game rounds.  In order to be marked correct, \n",
    "- your agent must win at least half of the games, and\n",
    "- `C` and `D` must both be nonzero."
   ]
  },
  {
   "cell_type": "code",
   "execution_count": 2,
   "id": "9124552f",
   "metadata": {
    "execution": {
     "iopub.execute_input": "2025-08-31T11:12:16.623811Z",
     "iopub.status.busy": "2025-08-31T11:12:16.623080Z",
     "iopub.status.idle": "2025-08-31T11:12:27.783207Z",
     "shell.execute_reply": "2025-08-31T11:12:27.782208Z"
    },
    "papermill": {
     "duration": 11.166479,
     "end_time": "2025-08-31T11:12:27.784779",
     "exception": false,
     "start_time": "2025-08-31T11:12:16.618300",
     "status": "completed"
    },
    "tags": []
   },
   "outputs": [
    {
     "name": "stdout",
     "output_type": "stream",
     "text": [
      "Your Agent's Win Percentage (in 50 game rounds): 0.58\n",
      "Tutorial Agent's Win Percentage (in 50 game rounds): 0.42\n"
     ]
    },
    {
     "data": {
      "application/javascript": [
       "parent.postMessage({\"jupyterEvent\": \"custom.exercise_interaction\", \"data\": {\"outcomeType\": 1, \"valueTowardsCompletion\": 0.3333333333333333, \"interactionType\": 1, \"questionType\": 2, \"questionId\": \"1_BetterHeuristic\", \"learnToolsVersion\": \"0.3.5\", \"failureMessage\": \"\", \"exceptionClass\": \"\", \"trace\": \"\"}}, \"*\")"
      ],
      "text/plain": [
       "<IPython.core.display.Javascript object>"
      ]
     },
     "metadata": {},
     "output_type": "display_data"
    },
    {
     "data": {
      "text/markdown": [
       "<span style=\"color:#33cc33\">Correct</span>"
      ],
      "text/plain": [
       "Correct"
      ]
     },
     "metadata": {},
     "output_type": "display_data"
    }
   ],
   "source": [
    "# There are many values that can work, but here is one solution\n",
    "A = 1e10\n",
    "B = 1e4\n",
    "C = 1e2\n",
    "D = -1\n",
    "E = -1e6\n",
    "\n",
    "# Check your answer (this will take a few seconds to run!)\n",
    "q_1.check()"
   ]
  },
  {
   "cell_type": "code",
   "execution_count": 3,
   "id": "70dcbde7",
   "metadata": {
    "execution": {
     "iopub.execute_input": "2025-08-31T11:12:27.796631Z",
     "iopub.status.busy": "2025-08-31T11:12:27.796268Z",
     "iopub.status.idle": "2025-08-31T11:12:27.804918Z",
     "shell.execute_reply": "2025-08-31T11:12:27.803753Z"
    },
    "papermill": {
     "duration": 0.017198,
     "end_time": "2025-08-31T11:12:27.806737",
     "exception": false,
     "start_time": "2025-08-31T11:12:27.789539",
     "status": "completed"
    },
    "tags": []
   },
   "outputs": [
    {
     "data": {
      "application/javascript": [
       "parent.postMessage({\"jupyterEvent\": \"custom.exercise_interaction\", \"data\": {\"interactionType\": 3, \"questionType\": 2, \"questionId\": \"1_BetterHeuristic\", \"learnToolsVersion\": \"0.3.5\", \"valueTowardsCompletion\": 0.0, \"failureMessage\": \"\", \"exceptionClass\": \"\", \"trace\": \"\", \"outcomeType\": 4}}, \"*\")"
      ],
      "text/plain": [
       "<IPython.core.display.Javascript object>"
      ]
     },
     "metadata": {},
     "output_type": "display_data"
    },
    {
     "data": {
      "text/markdown": [
       "<span style=\"color:#33cc99\">Solution:</span> \n",
       "```python\n",
       "# There are many values that can work, but here is one solution\n",
       "A = 1e10\n",
       "B = 1e4\n",
       "C = 1e2\n",
       "D = -1\n",
       "E = -1e6\n",
       "\n",
       "```"
      ],
      "text/plain": [
       "Solution: \n",
       "```python\n",
       "# There are many values that can work, but here is one solution\n",
       "A = 1e10\n",
       "B = 1e4\n",
       "C = 1e2\n",
       "D = -1\n",
       "E = -1e6\n",
       "\n",
       "```"
      ]
     },
     "metadata": {},
     "output_type": "display_data"
    }
   ],
   "source": [
    "# Lines below will give you a hint or solution code\n",
    "#q_1.hint()\n",
    "q_1.solution()"
   ]
  },
  {
   "cell_type": "markdown",
   "id": "f24612c0",
   "metadata": {
    "papermill": {
     "duration": 0.004442,
     "end_time": "2025-08-31T11:12:27.816543",
     "exception": false,
     "start_time": "2025-08-31T11:12:27.812101",
     "status": "completed"
    },
    "tags": []
   },
   "source": [
    "### 2) Does the agent win?\n",
    "\n",
    "Consider the game board below.  \n",
    "\n",
    "<center>\n",
    "<img src=\"https://storage.googleapis.com/kaggle-media/learn/images/AlnaQ3J.png\" width=30%><br/>\n",
    "</center>\n",
    "\n",
    "Say the agent uses red discs, and it's the agent's turn.  \n",
    "- If the agent uses the heuristic **_from the tutorial_**, does it win or lose the game?\n",
    "- If the agent uses the heuristic **_that you just implemented_**, does it win or lose the game?"
   ]
  },
  {
   "cell_type": "code",
   "execution_count": 4,
   "id": "5ea349b7",
   "metadata": {
    "execution": {
     "iopub.execute_input": "2025-08-31T11:12:27.830524Z",
     "iopub.status.busy": "2025-08-31T11:12:27.829684Z",
     "iopub.status.idle": "2025-08-31T11:12:27.835222Z",
     "shell.execute_reply": "2025-08-31T11:12:27.834129Z"
    },
    "papermill": {
     "duration": 0.013912,
     "end_time": "2025-08-31T11:12:27.836814",
     "exception": false,
     "start_time": "2025-08-31T11:12:27.822902",
     "status": "completed"
    },
    "tags": []
   },
   "outputs": [],
   "source": [
    "#q_2.hint()"
   ]
  },
  {
   "cell_type": "code",
   "execution_count": 5,
   "id": "cf480024",
   "metadata": {
    "execution": {
     "iopub.execute_input": "2025-08-31T11:12:27.846728Z",
     "iopub.status.busy": "2025-08-31T11:12:27.846392Z",
     "iopub.status.idle": "2025-08-31T11:12:27.854583Z",
     "shell.execute_reply": "2025-08-31T11:12:27.853660Z"
    },
    "papermill": {
     "duration": 0.015125,
     "end_time": "2025-08-31T11:12:27.856311",
     "exception": false,
     "start_time": "2025-08-31T11:12:27.841186",
     "status": "completed"
    },
    "tags": []
   },
   "outputs": [
    {
     "data": {
      "application/javascript": [
       "parent.postMessage({\"jupyterEvent\": \"custom.exercise_interaction\", \"data\": {\"interactionType\": 3, \"questionType\": 4, \"questionId\": \"2_BothLose\", \"learnToolsVersion\": \"0.3.5\", \"valueTowardsCompletion\": 0.0, \"failureMessage\": \"\", \"exceptionClass\": \"\", \"trace\": \"\", \"outcomeType\": 4}}, \"*\")"
      ],
      "text/plain": [
       "<IPython.core.display.Javascript object>"
      ]
     },
     "metadata": {},
     "output_type": "display_data"
    },
    {
     "data": {
      "text/markdown": [
       "<span style=\"color:#33cc99\">Solution:</span> The agent has two choices: it can play in either column 0 (the leftmost column), or column 6 (the rightmost column). If the agent plays in column 0, it definitely wins the game in its next move.  And, if it plays in column 6, it likely loses the game (since, if the opponent responds by playing in the same column, then the opponent wins the game). \n",
       "\n",
       "If the agent uses the heuristic **from the tutorial**, both columns are scored equally, and so the agent will select from them (uniformly) at random.  In this case, the agent has about a 50/50 chance of winning the game. \n",
       "\n",
       "As for the heuristic **that** **you just implemented**, this will depend on your implementation, so we'll provide an answer for the solution heuristic that we provided -- in this case, the agent most likely loses the game, since it will definitely select the final column. \n",
       "\n",
       "This is an interesting situation, because on average, we see that the agent with the new heuristic performs better than the agent from the tutorial (and yet, for this board, it's guaranteed to make the wrong decision)."
      ],
      "text/plain": [
       "Solution: The agent has two choices: it can play in either column 0 (the leftmost column), or column 6 (the rightmost column). If the agent plays in column 0, it definitely wins the game in its next move.  And, if it plays in column 6, it likely loses the game (since, if the opponent responds by playing in the same column, then the opponent wins the game). \n",
       "\n",
       "If the agent uses the heuristic **from the tutorial**, both columns are scored equally, and so the agent will select from them (uniformly) at random.  In this case, the agent has about a 50/50 chance of winning the game. \n",
       "\n",
       "As for the heuristic **that** **you just implemented**, this will depend on your implementation, so we'll provide an answer for the solution heuristic that we provided -- in this case, the agent most likely loses the game, since it will definitely select the final column. \n",
       "\n",
       "This is an interesting situation, because on average, we see that the agent with the new heuristic performs better than the agent from the tutorial (and yet, for this board, it's guaranteed to make the wrong decision)."
      ]
     },
     "metadata": {},
     "output_type": "display_data"
    }
   ],
   "source": [
    "# Check your answer (Run this code cell to receive credit!)\n",
    "q_2.solution()"
   ]
  },
  {
   "cell_type": "markdown",
   "id": "6492f963",
   "metadata": {
    "papermill": {
     "duration": 0.00397,
     "end_time": "2025-08-31T11:12:27.865910",
     "exception": false,
     "start_time": "2025-08-31T11:12:27.861940",
     "status": "completed"
    },
    "tags": []
   },
   "source": [
    "### 3) Submit to the competition\n",
    "\n",
    "Now, it's time to submit an agent to the competition!  Use the next code cell to define an agent.  (You can see an example of how to write a valid agent in **[this notebook](https://www.kaggle.com/alexisbcook/create-a-connectx-agent)**.)\n",
    "\n",
    "You're encouraged to use what you learned in the first question of this exercise to write an agent.  Use the code from the tutorial as a starting point. "
   ]
  },
  {
   "cell_type": "code",
   "execution_count": 6,
   "id": "436470df",
   "metadata": {
    "execution": {
     "iopub.execute_input": "2025-08-31T11:12:27.875969Z",
     "iopub.status.busy": "2025-08-31T11:12:27.875628Z",
     "iopub.status.idle": "2025-08-31T11:12:27.881537Z",
     "shell.execute_reply": "2025-08-31T11:12:27.880570Z"
    },
    "papermill": {
     "duration": 0.013357,
     "end_time": "2025-08-31T11:12:27.883478",
     "exception": false,
     "start_time": "2025-08-31T11:12:27.870121",
     "status": "completed"
    },
    "tags": []
   },
   "outputs": [],
   "source": [
    "def my_agent(obs, config):\n",
    "    # Your code here: Amend the agent!\n",
    "    import random\n",
    "    valid_moves = [col for col in range(config.columns) if obs.board[col] == 0]\n",
    "    return random.choice(valid_moves)"
   ]
  },
  {
   "cell_type": "code",
   "execution_count": 7,
   "id": "ddc8410e",
   "metadata": {
    "execution": {
     "iopub.execute_input": "2025-08-31T11:12:27.894516Z",
     "iopub.status.busy": "2025-08-31T11:12:27.894186Z",
     "iopub.status.idle": "2025-08-31T11:12:27.902605Z",
     "shell.execute_reply": "2025-08-31T11:12:27.901682Z"
    },
    "papermill": {
     "duration": 0.015544,
     "end_time": "2025-08-31T11:12:27.904233",
     "exception": false,
     "start_time": "2025-08-31T11:12:27.888689",
     "status": "completed"
    },
    "tags": []
   },
   "outputs": [
    {
     "data": {
      "application/javascript": [
       "parent.postMessage({\"jupyterEvent\": \"custom.exercise_interaction\", \"data\": {\"outcomeType\": 1, \"valueTowardsCompletion\": 0.3333333333333333, \"interactionType\": 1, \"questionType\": 2, \"questionId\": \"3_CreateAgentEx2\", \"learnToolsVersion\": \"0.3.5\", \"failureMessage\": \"\", \"exceptionClass\": \"\", \"trace\": \"\"}}, \"*\")"
      ],
      "text/plain": [
       "<IPython.core.display.Javascript object>"
      ]
     },
     "metadata": {},
     "output_type": "display_data"
    },
    {
     "data": {
      "text/markdown": [
       "<span style=\"color:#33cc33\">Thank you for creating an agent!</span>"
      ],
      "text/plain": [
       "Thank you for creating an agent!"
      ]
     },
     "metadata": {},
     "output_type": "display_data"
    }
   ],
   "source": [
    "# Run this code cell to get credit for creating an agent\n",
    "q_3.check()"
   ]
  },
  {
   "cell_type": "markdown",
   "id": "3c16dc58",
   "metadata": {
    "papermill": {
     "duration": 0.008887,
     "end_time": "2025-08-31T11:12:27.918719",
     "exception": false,
     "start_time": "2025-08-31T11:12:27.909832",
     "status": "completed"
    },
    "tags": []
   },
   "source": [
    "Run the next code cell to convert your agent to a submission file."
   ]
  },
  {
   "cell_type": "code",
   "execution_count": 8,
   "id": "76b039b4",
   "metadata": {
    "execution": {
     "iopub.execute_input": "2025-08-31T11:12:27.936907Z",
     "iopub.status.busy": "2025-08-31T11:12:27.936537Z",
     "iopub.status.idle": "2025-08-31T11:12:27.945239Z",
     "shell.execute_reply": "2025-08-31T11:12:27.943973Z"
    },
    "papermill": {
     "duration": 0.01977,
     "end_time": "2025-08-31T11:12:27.947792",
     "exception": false,
     "start_time": "2025-08-31T11:12:27.928022",
     "status": "completed"
    },
    "tags": []
   },
   "outputs": [
    {
     "data": {
      "application/javascript": [
       "parent.postMessage({\"jupyterEvent\": \"custom.exercise_interaction\", \"data\": {\"interactionType\": 3, \"questionType\": 2, \"questionId\": \"3_CreateAgentEx2\", \"learnToolsVersion\": \"0.3.5\", \"valueTowardsCompletion\": 0.0, \"failureMessage\": \"\", \"exceptionClass\": \"\", \"trace\": \"\", \"outcomeType\": 4}}, \"*\")"
      ],
      "text/plain": [
       "<IPython.core.display.Javascript object>"
      ]
     },
     "metadata": {},
     "output_type": "display_data"
    },
    {
     "data": {
      "text/markdown": [
       "<span style=\"color:#33cc99\">Solution:</span> Follow the instructions to create an agent."
      ],
      "text/plain": [
       "Solution: Follow the instructions to create an agent."
      ]
     },
     "metadata": {},
     "output_type": "display_data"
    }
   ],
   "source": [
    "q_3.solution()"
   ]
  },
  {
   "cell_type": "code",
   "execution_count": 9,
   "id": "6ae92a65",
   "metadata": {
    "execution": {
     "iopub.execute_input": "2025-08-31T11:12:27.961923Z",
     "iopub.status.busy": "2025-08-31T11:12:27.961569Z",
     "iopub.status.idle": "2025-08-31T11:12:27.968654Z",
     "shell.execute_reply": "2025-08-31T11:12:27.967774Z"
    },
    "papermill": {
     "duration": 0.01566,
     "end_time": "2025-08-31T11:12:27.970096",
     "exception": false,
     "start_time": "2025-08-31T11:12:27.954436",
     "status": "completed"
    },
    "tags": []
   },
   "outputs": [
    {
     "name": "stdout",
     "output_type": "stream",
     "text": [
      "<function my_agent at 0x78a5479c59e0> written to submission.py\n"
     ]
    }
   ],
   "source": [
    "import inspect\n",
    "import os\n",
    "\n",
    "def write_agent_to_file(function, file):\n",
    "    with open(file, \"a\" if os.path.exists(file) else \"w\") as f:\n",
    "        f.write(inspect.getsource(function))\n",
    "        print(function, \"written to\", file)\n",
    "\n",
    "write_agent_to_file(my_agent, \"submission.py\")"
   ]
  },
  {
   "cell_type": "markdown",
   "id": "6fa72e43",
   "metadata": {
    "papermill": {
     "duration": 0.004445,
     "end_time": "2025-08-31T11:12:27.979475",
     "exception": false,
     "start_time": "2025-08-31T11:12:27.975030",
     "status": "completed"
    },
    "tags": []
   },
   "source": [
    "Then, follow these steps to submit your agent to the competition:\n",
    "1. Begin by clicking on the **Save Version** button in the top right corner of the window.  This will generate a pop-up window.  \n",
    "2. Ensure that the **Save and Run All** option is selected, and then click on the **Save** button.\n",
    "3. This generates a window in the bottom left corner of the notebook.  After it has finished running, click on the number to the right of the **Save Version** button.  This pulls up a list of versions on the right of the screen.  Click on the ellipsis **(...)** to the right of the most recent version, and select **Open in Viewer**.  This brings you into view mode of the same page. You will need to scroll down to get back to these instructions.\n",
    "4. Click on the **Data** tab near the top of the screen.  Then, click on the file you would like to submit, and click on the **Submit** button to submit your results to the leaderboard.\n",
    "\n",
    "You have now successfully submitted to the competition!\n",
    "\n",
    "If you want to keep working to improve your performance, select the **Edit** button in the top right of the screen. Then you can change your code and repeat the process. There's a lot of room to improve, and you will climb up the leaderboard as you work.\n",
    "\n",
    "\n",
    "Go to **\"My Submissions\"** to view your score and episodes being played.\n",
    "\n",
    "# Keep going\n",
    "\n",
    "Move on to **[develop a longer-term strategy](https://www.kaggle.com/alexisbcook/n-step-lookahead)** with the minimax algorithm."
   ]
  },
  {
   "cell_type": "markdown",
   "id": "2d9f34c8",
   "metadata": {
    "papermill": {
     "duration": 0.004775,
     "end_time": "2025-08-31T11:12:27.989582",
     "exception": false,
     "start_time": "2025-08-31T11:12:27.984807",
     "status": "completed"
    },
    "tags": []
   },
   "source": [
    "---\n",
    "\n",
    "\n",
    "\n",
    "\n",
    "*Have questions or comments? Visit the [course discussion forum](https://www.kaggle.com/learn/intro-to-game-ai-and-reinforcement-learning/discussion) to chat with other learners.*"
   ]
  }
 ],
 "metadata": {
  "kaggle": {
   "accelerator": "none",
   "dataSources": [
    {
     "databundleVersionId": 899221,
     "sourceId": 17592,
     "sourceType": "competition"
    }
   ],
   "isGpuEnabled": false,
   "isInternetEnabled": false,
   "language": "python",
   "sourceType": "notebook"
  },
  "kernelspec": {
   "display_name": "Python 3",
   "language": "python",
   "name": "python3"
  },
  "language_info": {
   "codemirror_mode": {
    "name": "ipython",
    "version": 3
   },
   "file_extension": ".py",
   "mimetype": "text/x-python",
   "name": "python",
   "nbconvert_exporter": "python",
   "pygments_lexer": "ipython3",
   "version": "3.11.13"
  },
  "papermill": {
   "default_parameters": {},
   "duration": 62.869685,
   "end_time": "2025-08-31T11:12:31.042455",
   "environment_variables": {},
   "exception": null,
   "input_path": "__notebook__.ipynb",
   "output_path": "__notebook__.ipynb",
   "parameters": {},
   "start_time": "2025-08-31T11:11:28.172770",
   "version": "2.6.0"
  }
 },
 "nbformat": 4,
 "nbformat_minor": 5
}
